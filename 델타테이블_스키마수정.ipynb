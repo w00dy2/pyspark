{
 "cells": [
  {
   "cell_type": "markdown",
   "metadata": {},
   "source": [
    "디렉터리를 삭제하는 것은 효율적이지 않다.\n",
    "\n",
    "또한 drop table을 하면 데이터를 복구하기가 어렵다는 문제가 있다.\n",
    "\n",
    "따라서 차라리 테이블을 overwrite를 하는 것이 좋다."
   ]
  },
  {
   "cell_type": "code",
   "execution_count": null,
   "metadata": {
    "vscode": {
     "languageId": "plaintext"
    }
   },
   "outputs": [],
   "source": [
    "dataframe.write \\\n",
    "  .mode(\"overwrite\") \\\n",
    "  .option(\"overwriteSchema\", \"true\") \\\n",
    "  .saveAsTable(\"<your-table>\") # Managed table\n",
    "\n",
    "dataframe.write \\\n",
    "  .mode(\"overwrite\") \\\n",
    "  .option(\"overwriteSchema\", \"true\") \\\n",
    "  .option(\"path\", \"<your-table-path>\") \\\n",
    "  .saveAsTable(\"<your-table>\") # External table"
   ]
  }
 ],
 "metadata": {
  "language_info": {
   "name": "python"
  }
 },
 "nbformat": 4,
 "nbformat_minor": 2
}
