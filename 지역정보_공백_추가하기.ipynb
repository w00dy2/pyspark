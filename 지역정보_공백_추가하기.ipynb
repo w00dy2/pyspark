{
 "cells": [
  {
   "cell_type": "markdown",
   "metadata": {},
   "source": [
    "### 1. 시도구군 정보에서 시군구가 붙여있는경우 전처리\n",
    "### 2. 특이사항 : 정규식으로 처리하려고 하였으나, 시흥과 같은경우에 시가 들어가기 때문에 전처리함에 있어 어려움이 있음.\n",
    "### 3. 모든 컬럼에 특정값을 대입하기 위해서는 lit(\"값\")으로 입력할 수 있음."
   ]
  },
  {
   "cell_type": "code",
   "execution_count": null,
   "metadata": {},
   "outputs": [],
   "source": [
    "from pyspark.sql.functions import col,  when\n",
    "from pyspark.sql.types import StringType\n",
    "\n",
    "df = df.withColumn(\"Gugun\",\n",
    "                            when((col(\"Gugun\") == \"고양시덕양구\"), \"고양시 덕양구\").\n",
    "                            when((col(\"Gugun\") == \"고양시일산서구\"), \"고양시 일산서구\").\n",
    "                            when((col(\"Gugun\") == \"고양시일산동구\"), \"고양시 일산동구\").\n",
    "                            when((col(\"Gugun\") == \"부천시소사구\"), \"부천시 소사구\").\n",
    "                            when((col(\"Gugun\") == \"부천시오정구\"), \"부천시 오정구\").\n",
    "                            when((col(\"Gugun\") == \"부천시원미구\"), \"부천시 원미구\").\n",
    "                            when((col(\"Gugun\") == \"성남시분당구\"), \"성남시 분당구\").\n",
    "                            when((col(\"Gugun\") == \"성남시수정구\"), \"성남시 수정구\").\n",
    "                            when((col(\"Gugun\") == \"성남시중원구\"), \"성남시 중원구\")\n",
    "                            .when((col(\"Gugun\") == \"수원시권선구\"), \"수원시 권선구\")\n",
    "                            .when((col(\"Gugun\") == \"수원시영통구\"), \"수원시 영통구\")\n",
    "                            .when((col(\"Gugun\") == \"수원시장안구\"), \"수원시 장안구\")\n",
    "                            .when((col(\"Gugun\") == \"수원시팔달구\"), \"수원시 팔달구\")\n",
    "                            .when((col(\"Gugun\") == \"안산시구\"), \"안산시 단원구\")\n",
    "                            .when((col(\"Gugun\") == \"안산시상록구\"), \"안산시 상록구\")\n",
    "                            .when((col(\"Gugun\") == \"안양시동안구\"), \"안양시 동안구\")\n",
    "                            .when((col(\"Gugun\") == \"안양시만안구\"), \"안양시 만안구\")\n",
    "                            .when((col(\"Gugun\") == \"용인시기흥구\"), \"용인시 기흥구\")\n",
    "                            .when((col(\"Gugun\") == \"용인시수지구\"), \"용인시 수지구\")\n",
    "                            .when((col(\"Gugun\") == \"용인시처인구\"), \"용인시 처인구\")\n",
    "                            .when((col(\"Gugun\") == \"전주시덕진구\"), \"전주시 덕진구\")\n",
    "                            .when((col(\"Gugun\") == \"전주시완산구\"), \"전주시 완산구\")\n",
    "                            .when((col(\"Gugun\") == \"창원시마산합포구\"), \"창원시 마산합포구\")\n",
    "                            .when((col(\"Gugun\") == \"창원시마산회원구\"), \"창원시 마산회원구\")\n",
    "                            .when((col(\"Gugun\") == \"창원시성산구\"), \"창원시 성산구\")\n",
    "                            .when((col(\"Gugun\") == \"창원시의창구\"), \"창원시 의창구\")\n",
    "                            .when((col(\"Gugun\") == \"창원시진해구\"), \"창원시 진해구\")\n",
    "                            .when((col(\"Gugun\") == \"천안시동남구\"), \"천안시 동남구\")\n",
    "                            .when((col(\"Gugun\") == \"천안시서북구\"), \"천안시 서북구\")\n",
    "                            .when((col(\"Gugun\") == \"청주시상당구\"), \"청주시 상당구\")\n",
    "                            .when((col(\"Gugun\") == \"청주시서원구\"), \"청주시 서원구\")\n",
    "                            .when((col(\"Gugun\") == \"청주시청원구\"), \"청주시 청원구\")\n",
    "                            .when((col(\"Gugun\") == \"청주시흥덕구\"), \"청주시 흥덕구\")\n",
    "                            .when((col(\"Gugun\") == \"포항시남구\"), \"포항시 남구\")\n",
    "                            .when((col(\"Gugun\") == \"포항시북구\"), \"포항시 북구\")\n",
    "                            .otherwise(col(\"Gugun\"))\n",
    ")"
   ]
  },
  {
   "cell_type": "code",
   "execution_count": null,
   "metadata": {},
   "outputs": [],
   "source": [
    "from pyspark.sql.functions import col, when\n",
    "from pyspark.sql.types import StringType\n",
    "\n",
    "def fix_gugun(gugun):\n",
    "    if gugun:\n",
    "        return gugun.replace(\"시\", \"시 \").replace(\"구\", \" 구\")\n",
    "    else:\n",
    "        return gugun\n",
    "\n",
    "df = df.withColumn(\"Gugun\", fix_gugun(col(\"Gugun\")))"
   ]
  }
 ],
 "metadata": {
  "kernelspec": {
   "display_name": "Python 3",
   "language": "python",
   "name": "python3"
  },
  "language_info": {
   "name": "python",
   "version": "3.12.0"
  }
 },
 "nbformat": 4,
 "nbformat_minor": 2
}
